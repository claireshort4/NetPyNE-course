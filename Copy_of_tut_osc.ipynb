{
  "nbformat": 4,
  "nbformat_minor": 0,
  "metadata": {
    "colab": {
      "name": "Copy of tut_osc.ipynb",
      "provenance": [],
      "collapsed_sections": [],
      "include_colab_link": true
    },
    "kernelspec": {
      "name": "python3",
      "display_name": "Python 3"
    },
    "language_info": {
      "name": "python"
    }
  },
  "cells": [
    {
      "cell_type": "markdown",
      "metadata": {
        "id": "view-in-github",
        "colab_type": "text"
      },
      "source": [
        "<a href=\"https://colab.research.google.com/github/claireshort4/NetPyNE-course/blob/main/Copy_of_tut_osc.ipynb\" target=\"_parent\"><img src=\"https://colab.research.google.com/assets/colab-badge.svg\" alt=\"Open In Colab\"/></a>"
      ]
    },
    {
      "cell_type": "code",
      "metadata": {
        "colab": {
          "base_uri": "https://localhost:8080/"
        },
        "id": "V0cRyhp8YWl2",
        "outputId": "d44aeffe-e32a-4cb9-8085-0bc3ee1fd442"
      },
      "source": [
        "!pip install neuron\n",
        "!pip install netpyne\n",
        "import matplotlib\n",
        "%matplotlib inline"
      ],
      "execution_count": 5,
      "outputs": [
        {
          "output_type": "stream",
          "text": [
            "Requirement already satisfied: neuron in /usr/local/lib/python3.7/dist-packages (8.0.0)\n",
            "Requirement already satisfied: numpy>=1.9.3 in /usr/local/lib/python3.7/dist-packages (from neuron) (1.19.5)\n",
            "Requirement already satisfied: netpyne in /usr/local/lib/python3.7/dist-packages (1.0.0.2)\n",
            "Requirement already satisfied: bokeh in /usr/local/lib/python3.7/dist-packages (from netpyne) (2.3.2)\n",
            "Requirement already satisfied: pandas in /usr/local/lib/python3.7/dist-packages (from netpyne) (1.1.5)\n",
            "Requirement already satisfied: scipy in /usr/local/lib/python3.7/dist-packages (from netpyne) (1.4.1)\n",
            "Requirement already satisfied: numpy in /usr/local/lib/python3.7/dist-packages (from netpyne) (1.19.5)\n",
            "Requirement already satisfied: matplotlib in /usr/local/lib/python3.7/dist-packages (from netpyne) (3.2.2)\n",
            "Requirement already satisfied: matplotlib-scalebar in /usr/local/lib/python3.7/dist-packages (from netpyne) (0.7.2)\n",
            "Requirement already satisfied: future in /usr/local/lib/python3.7/dist-packages (from netpyne) (0.16.0)\n",
            "Requirement already satisfied: python-dateutil>=2.1 in /usr/local/lib/python3.7/dist-packages (from bokeh->netpyne) (2.8.1)\n",
            "Requirement already satisfied: Jinja2>=2.9 in /usr/local/lib/python3.7/dist-packages (from bokeh->netpyne) (2.11.3)\n",
            "Requirement already satisfied: tornado>=5.1 in /usr/local/lib/python3.7/dist-packages (from bokeh->netpyne) (5.1.1)\n",
            "Requirement already satisfied: pillow>=7.1.0 in /usr/local/lib/python3.7/dist-packages (from bokeh->netpyne) (7.1.2)\n",
            "Requirement already satisfied: typing-extensions>=3.7.4 in /usr/local/lib/python3.7/dist-packages (from bokeh->netpyne) (3.7.4.3)\n",
            "Requirement already satisfied: packaging>=16.8 in /usr/local/lib/python3.7/dist-packages (from bokeh->netpyne) (20.9)\n",
            "Requirement already satisfied: PyYAML>=3.10 in /usr/local/lib/python3.7/dist-packages (from bokeh->netpyne) (3.13)\n",
            "Requirement already satisfied: pytz>=2017.2 in /usr/local/lib/python3.7/dist-packages (from pandas->netpyne) (2018.9)\n",
            "Requirement already satisfied: kiwisolver>=1.0.1 in /usr/local/lib/python3.7/dist-packages (from matplotlib->netpyne) (1.3.1)\n",
            "Requirement already satisfied: cycler>=0.10 in /usr/local/lib/python3.7/dist-packages (from matplotlib->netpyne) (0.10.0)\n",
            "Requirement already satisfied: pyparsing!=2.0.4,!=2.1.2,!=2.1.6,>=2.0.1 in /usr/local/lib/python3.7/dist-packages (from matplotlib->netpyne) (2.4.7)\n",
            "Requirement already satisfied: six>=1.5 in /usr/local/lib/python3.7/dist-packages (from python-dateutil>=2.1->bokeh->netpyne) (1.15.0)\n",
            "Requirement already satisfied: MarkupSafe>=0.23 in /usr/local/lib/python3.7/dist-packages (from Jinja2>=2.9->bokeh->netpyne) (2.0.0)\n"
          ],
          "name": "stdout"
        }
      ]
    },
    {
      "cell_type": "code",
      "metadata": {
        "colab": {
          "base_uri": "https://localhost:8080/",
          "height": 470
        },
        "id": "f0P--qg5YUT6",
        "outputId": "7117f573-961a-4d61-890a-9d1a3ec0f7eb"
      },
      "source": [
        "from netpyne import specs, sim\n",
        "\n",
        "# Network parameters\n",
        "netParams = specs.NetParams()  # object of class NetParams to store the network parameters\n",
        "\n",
        "## Cell parameters/rules\n",
        "PYRcell = {'secs': {}}\n",
        "PYRcell['secs']['soma'] = {'geom': {}, 'mechs': {}}\n",
        "PYRcell['secs']['soma']['geom'] = {\n",
        "    'diam': 18.8,   \n",
        "    'L': 18.8, \n",
        "    'Ra': 123.0}  # soma geometry\n",
        "PYRcell['secs']['soma']['mechs']['hh'] = {\n",
        "    'gnabar': 0.12, \n",
        "    'gkbar': 0.036, \n",
        "    'gl': 0.003, \n",
        "    'el': -70}  # soma hh mechanism\n",
        "netParams.cellParams['PYR'] = PYRcell\n",
        "\n",
        "## Population parameters\n",
        "netParams.popParams['S'] = {\n",
        "    'cellType': 'PYR', \n",
        "    'numCells': 20}\n",
        "netParams.popParams['I'] = {\n",
        "    'cellType': 'PYR', \n",
        "    'numCells': 20}\n",
        "\n",
        "## Synaptic mechanism parameters\n",
        "netParams.synMechParams['exc'] = {\n",
        "    'mod': 'Exp2Syn', \n",
        "    'tau1': 0.1, \n",
        "    'tau2': 5.0, \n",
        "    'e': 0}  # excitatory synaptic mechanism\n",
        "\n",
        "## Synaptic mechanism parameters\n",
        "netParams.synMechParams['inh'] = {\n",
        "    'mod': 'Exp2Syn', \n",
        "    'tau1': 0.1, \n",
        "    'tau2': 5.0, \n",
        "    'e': -70}  # excitatory synaptic mechanism\n",
        "\n",
        "# Stimulation parameters\n",
        "netParams.stimSourceParams['bkg'] = {\n",
        "    'type': 'NetStim', \n",
        "    'rate': 50, \n",
        "    'noise': 0.5}\n",
        "netParams.stimTargetParams['bkg->PYR'] = { #how do you add this in? \n",
        "    'source': 'bkg', \n",
        "    'conds': {'pop': 's'}, \n",
        "    'weight': 0.01, \n",
        "    'delay': 5, \n",
        "    'synMech': 'exc'}\n",
        "\n",
        "## Cell connectivity rules\n",
        "netParams.connParams['S->I'] = {    #  S -> M label\n",
        "    'preConds': {'pop': 'S'},       # conditions of presyn cells\n",
        "    'postConds': {'pop': 'I'},      # conditions of postsyn cells\n",
        "    'divergence': 1,               # probability of connection\n",
        "    'weight': 0.01,                 # synaptic weight\n",
        "    'delay': 5,                     # transmission delay (ms)\n",
        "    'synMech': 'exc'}               # synaptic mechanism\n",
        "\n",
        "## Cell connectivity rules\n",
        "netParams.connParams['I->S'] = {    #  S -> M label\n",
        "    'preConds': {'pop': 'I'},       # conditions of presyn cells\n",
        "    'postConds': {'pop': 'S'},      # conditions of postsyn cells\n",
        "    'divergence': 0.7,               # probability of connection\n",
        "    'weight': 0.02,                 # synaptic weight\n",
        "    'delay': 5,                     # transmission delay (ms)\n",
        "    'synMech':'inh'}               # synaptic mechanism\n",
        "\n",
        "# Simulation options\n",
        "simConfig = specs.SimConfig()       # object of class SimConfig to store simulation configuration (where does this go in netpyne?)\n",
        "\n",
        "simConfig.duration = 1*1e3          # Duration of the simulation, in ms\n",
        "simConfig.dt = 0.025                # Internal integration timestep to use\n",
        "simConfig.verbose = False           # Show detailed messages\n",
        "simConfig.recordTraces = {'V_soma':{'sec':'soma','loc':0.5,'var':'v'}}  # Dict with traces to record\n",
        "simConfig.recordStep = 0.1          # Step size in ms to save data (eg. V traces, LFP, etc)\n",
        "simConfig.filename = 'tut2'  # Set file output name\n",
        "simConfig.savePickle = False        # Save params, network and sim output to pickle file\n",
        "simConfig.saveJson = True\n",
        "\n",
        "simConfig.analysis['plotRaster'] = {'saveFig': True, 'syncLines':True}                  # Plot a raster\n",
        "simConfig.analysis['plotTraces'] = {'include': [1], 'saveFig': True}  # Plot recorded traces for this list of cells\n",
        "simConfig.analysis['plotRateSpectrogram'] = {'include': ['all']}\n",
        "simConfig.analysis['plotSpikeHist'] = {'include': ['S', 'I']}\n",
        "\n",
        "# Create network and run simulation\n",
        "sim.createSimulateAnalyze(netParams = netParams, simConfig = simConfig)\n",
        "\n"
      ],
      "execution_count": 8,
      "outputs": [
        {
          "output_type": "stream",
          "text": [
            "\n",
            "Start time:  2021-05-19 21:52:11.434190\n",
            "\n",
            "Creating network of 2 cell populations on 1 hosts...\n",
            "  Number of cells on node 0: 40 \n",
            "  Done; cell creation time = 0.00 s.\n",
            "Making connections...\n"
          ],
          "name": "stdout"
        },
        {
          "output_type": "error",
          "ename": "LookupError",
          "evalue": "ignored",
          "traceback": [
            "\u001b[0;31m---------------------------------------------------------------------------\u001b[0m",
            "\u001b[0;31mLookupError\u001b[0m                               Traceback (most recent call last)",
            "\u001b[0;32m<ipython-input-8-b2cf0229a0bc>\u001b[0m in \u001b[0;36m<module>\u001b[0;34m()\u001b[0m\n\u001b[1;32m     88\u001b[0m \u001b[0;34m\u001b[0m\u001b[0m\n\u001b[1;32m     89\u001b[0m \u001b[0;31m# Create network and run simulation\u001b[0m\u001b[0;34m\u001b[0m\u001b[0;34m\u001b[0m\u001b[0;34m\u001b[0m\u001b[0m\n\u001b[0;32m---> 90\u001b[0;31m \u001b[0msim\u001b[0m\u001b[0;34m.\u001b[0m\u001b[0mcreateSimulateAnalyze\u001b[0m\u001b[0;34m(\u001b[0m\u001b[0mnetParams\u001b[0m \u001b[0;34m=\u001b[0m \u001b[0mnetParams\u001b[0m\u001b[0;34m,\u001b[0m \u001b[0msimConfig\u001b[0m \u001b[0;34m=\u001b[0m \u001b[0msimConfig\u001b[0m\u001b[0;34m)\u001b[0m\u001b[0;34m\u001b[0m\u001b[0;34m\u001b[0m\u001b[0m\n\u001b[0m\u001b[1;32m     91\u001b[0m \u001b[0;34m\u001b[0m\u001b[0m\n",
            "\u001b[0;32m/usr/local/lib/python3.7/dist-packages/netpyne/sim/wrappers.py\u001b[0m in \u001b[0;36mcreateSimulateAnalyze\u001b[0;34m(netParams, simConfig, output)\u001b[0m\n\u001b[1;32m    200\u001b[0m \u001b[0;34m\u001b[0m\u001b[0m\n\u001b[1;32m    201\u001b[0m     \u001b[0;32mfrom\u001b[0m \u001b[0;34m.\u001b[0m\u001b[0;34m.\u001b[0m \u001b[0;32mimport\u001b[0m \u001b[0msim\u001b[0m\u001b[0;34m\u001b[0m\u001b[0;34m\u001b[0m\u001b[0m\n\u001b[0;32m--> 202\u001b[0;31m     \u001b[0;34m(\u001b[0m\u001b[0mpops\u001b[0m\u001b[0;34m,\u001b[0m \u001b[0mcells\u001b[0m\u001b[0;34m,\u001b[0m \u001b[0mconns\u001b[0m\u001b[0;34m,\u001b[0m \u001b[0mstims\u001b[0m\u001b[0;34m,\u001b[0m \u001b[0mrxd\u001b[0m\u001b[0;34m,\u001b[0m \u001b[0msimData\u001b[0m\u001b[0;34m)\u001b[0m \u001b[0;34m=\u001b[0m \u001b[0msim\u001b[0m\u001b[0;34m.\u001b[0m\u001b[0mcreate\u001b[0m\u001b[0;34m(\u001b[0m\u001b[0mnetParams\u001b[0m\u001b[0;34m,\u001b[0m \u001b[0msimConfig\u001b[0m\u001b[0;34m,\u001b[0m \u001b[0moutput\u001b[0m\u001b[0;34m=\u001b[0m\u001b[0;32mTrue\u001b[0m\u001b[0;34m)\u001b[0m\u001b[0;34m\u001b[0m\u001b[0;34m\u001b[0m\u001b[0m\n\u001b[0m\u001b[1;32m    203\u001b[0m     \u001b[0msim\u001b[0m\u001b[0;34m.\u001b[0m\u001b[0msimulate\u001b[0m\u001b[0;34m(\u001b[0m\u001b[0;34m)\u001b[0m\u001b[0;34m\u001b[0m\u001b[0;34m\u001b[0m\u001b[0m\n\u001b[1;32m    204\u001b[0m     \u001b[0msim\u001b[0m\u001b[0;34m.\u001b[0m\u001b[0manalyze\u001b[0m\u001b[0;34m(\u001b[0m\u001b[0;34m)\u001b[0m\u001b[0;34m\u001b[0m\u001b[0;34m\u001b[0m\u001b[0m\n",
            "\u001b[0;32m/usr/local/lib/python3.7/dist-packages/netpyne/sim/wrappers.py\u001b[0m in \u001b[0;36mcreate\u001b[0;34m(netParams, simConfig, output)\u001b[0m\n\u001b[1;32m     49\u001b[0m     \u001b[0mpops\u001b[0m \u001b[0;34m=\u001b[0m \u001b[0msim\u001b[0m\u001b[0;34m.\u001b[0m\u001b[0mnet\u001b[0m\u001b[0;34m.\u001b[0m\u001b[0mcreatePops\u001b[0m\u001b[0;34m(\u001b[0m\u001b[0;34m)\u001b[0m                  \u001b[0;31m# instantiate network populations\u001b[0m\u001b[0;34m\u001b[0m\u001b[0;34m\u001b[0m\u001b[0m\n\u001b[1;32m     50\u001b[0m     \u001b[0mcells\u001b[0m \u001b[0;34m=\u001b[0m \u001b[0msim\u001b[0m\u001b[0;34m.\u001b[0m\u001b[0mnet\u001b[0m\u001b[0;34m.\u001b[0m\u001b[0mcreateCells\u001b[0m\u001b[0;34m(\u001b[0m\u001b[0;34m)\u001b[0m                 \u001b[0;31m# instantiate network cells based on defined populations\u001b[0m\u001b[0;34m\u001b[0m\u001b[0;34m\u001b[0m\u001b[0m\n\u001b[0;32m---> 51\u001b[0;31m     \u001b[0mconns\u001b[0m \u001b[0;34m=\u001b[0m \u001b[0msim\u001b[0m\u001b[0;34m.\u001b[0m\u001b[0mnet\u001b[0m\u001b[0;34m.\u001b[0m\u001b[0mconnectCells\u001b[0m\u001b[0;34m(\u001b[0m\u001b[0;34m)\u001b[0m                \u001b[0;31m# create connections between cells based on params\u001b[0m\u001b[0;34m\u001b[0m\u001b[0;34m\u001b[0m\u001b[0m\n\u001b[0m\u001b[1;32m     52\u001b[0m     \u001b[0mstims\u001b[0m \u001b[0;34m=\u001b[0m \u001b[0msim\u001b[0m\u001b[0;34m.\u001b[0m\u001b[0mnet\u001b[0m\u001b[0;34m.\u001b[0m\u001b[0maddStims\u001b[0m\u001b[0;34m(\u001b[0m\u001b[0;34m)\u001b[0m                    \u001b[0;31m# add external stimulation to cells (IClamps etc)\u001b[0m\u001b[0;34m\u001b[0m\u001b[0;34m\u001b[0m\u001b[0m\n\u001b[1;32m     53\u001b[0m     \u001b[0mrxd\u001b[0m \u001b[0;34m=\u001b[0m \u001b[0msim\u001b[0m\u001b[0;34m.\u001b[0m\u001b[0mnet\u001b[0m\u001b[0;34m.\u001b[0m\u001b[0maddRxD\u001b[0m\u001b[0;34m(\u001b[0m\u001b[0;34m)\u001b[0m                    \u001b[0;31m# add reaction-diffusion (RxD)\u001b[0m\u001b[0;34m\u001b[0m\u001b[0;34m\u001b[0m\u001b[0m\n",
            "\u001b[0;32m/usr/local/lib/python3.7/dist-packages/netpyne/network/conn.py\u001b[0m in \u001b[0;36mconnectCells\u001b[0;34m(self)\u001b[0m\n\u001b[1;32m     87\u001b[0m                                 sim.cfg.seeds['conn'])\n\u001b[1;32m     88\u001b[0m             \u001b[0mself\u001b[0m\u001b[0;34m.\u001b[0m\u001b[0m_connStrToFunc\u001b[0m\u001b[0;34m(\u001b[0m\u001b[0mpreCellsTags\u001b[0m\u001b[0;34m,\u001b[0m \u001b[0mpostCellsTags\u001b[0m\u001b[0;34m,\u001b[0m \u001b[0mconnParam\u001b[0m\u001b[0;34m)\u001b[0m  \u001b[0;31m# convert strings to functions (for the delay, and probability params)\u001b[0m\u001b[0;34m\u001b[0m\u001b[0;34m\u001b[0m\u001b[0m\n\u001b[0;32m---> 89\u001b[0;31m             \u001b[0mconnFunc\u001b[0m\u001b[0;34m(\u001b[0m\u001b[0mpreCellsTags\u001b[0m\u001b[0;34m,\u001b[0m \u001b[0mpostCellsTags\u001b[0m\u001b[0;34m,\u001b[0m \u001b[0mconnParam\u001b[0m\u001b[0;34m)\u001b[0m  \u001b[0;31m# call specific conn function\u001b[0m\u001b[0;34m\u001b[0m\u001b[0;34m\u001b[0m\u001b[0m\n\u001b[0m\u001b[1;32m     90\u001b[0m \u001b[0;34m\u001b[0m\u001b[0m\n\u001b[1;32m     91\u001b[0m         \u001b[0;31m# check if gap junctions in any of the conn rules\u001b[0m\u001b[0;34m\u001b[0m\u001b[0;34m\u001b[0m\u001b[0;34m\u001b[0m\u001b[0m\n",
            "\u001b[0;32m/usr/local/lib/python3.7/dist-packages/netpyne/network/conn.py\u001b[0m in \u001b[0;36mdivConn\u001b[0;34m(self, preCellsTags, postCellsTags, connParam)\u001b[0m\n\u001b[1;32m    655\u001b[0m \u001b[0;34m\u001b[0m\u001b[0m\n\u001b[1;32m    656\u001b[0m             \u001b[0;32mif\u001b[0m \u001b[0mpreCellGid\u001b[0m \u001b[0;34m!=\u001b[0m \u001b[0mpostCellGid\u001b[0m\u001b[0;34m:\u001b[0m \u001b[0;31m# if not self-connection\u001b[0m\u001b[0;34m\u001b[0m\u001b[0;34m\u001b[0m\u001b[0m\n\u001b[0;32m--> 657\u001b[0;31m                 \u001b[0mself\u001b[0m\u001b[0;34m.\u001b[0m\u001b[0m_addCellConn\u001b[0m\u001b[0;34m(\u001b[0m\u001b[0mconnParam\u001b[0m\u001b[0;34m,\u001b[0m \u001b[0mpreCellGid\u001b[0m\u001b[0;34m,\u001b[0m \u001b[0mpostCellGid\u001b[0m\u001b[0;34m)\u001b[0m \u001b[0;31m# add connection\u001b[0m\u001b[0;34m\u001b[0m\u001b[0;34m\u001b[0m\u001b[0m\n\u001b[0m\u001b[1;32m    658\u001b[0m \u001b[0;34m\u001b[0m\u001b[0m\n\u001b[1;32m    659\u001b[0m \u001b[0;34m\u001b[0m\u001b[0m\n",
            "\u001b[0;32m/usr/local/lib/python3.7/dist-packages/netpyne/network/conn.py\u001b[0m in \u001b[0;36m_addCellConn\u001b[0;34m(self, connParam, preCellGid, postCellGid)\u001b[0m\n\u001b[1;32m    786\u001b[0m         \u001b[0;32mif\u001b[0m \u001b[0msim\u001b[0m\u001b[0;34m.\u001b[0m\u001b[0mcfg\u001b[0m\u001b[0;34m.\u001b[0m\u001b[0mincludeParamsLabel\u001b[0m\u001b[0;34m:\u001b[0m \u001b[0mparams\u001b[0m\u001b[0;34m[\u001b[0m\u001b[0;34m'label'\u001b[0m\u001b[0;34m]\u001b[0m \u001b[0;34m=\u001b[0m \u001b[0mconnParam\u001b[0m\u001b[0;34m.\u001b[0m\u001b[0mget\u001b[0m\u001b[0;34m(\u001b[0m\u001b[0;34m'label'\u001b[0m\u001b[0;34m)\u001b[0m\u001b[0;34m\u001b[0m\u001b[0;34m\u001b[0m\u001b[0m\n\u001b[1;32m    787\u001b[0m \u001b[0;34m\u001b[0m\u001b[0m\n\u001b[0;32m--> 788\u001b[0;31m         \u001b[0mpostCell\u001b[0m\u001b[0;34m.\u001b[0m\u001b[0maddConn\u001b[0m\u001b[0;34m(\u001b[0m\u001b[0mparams\u001b[0m\u001b[0;34m=\u001b[0m\u001b[0mparams\u001b[0m\u001b[0;34m)\u001b[0m\u001b[0;34m\u001b[0m\u001b[0;34m\u001b[0m\u001b[0m\n\u001b[0m",
            "\u001b[0;32m/usr/local/lib/python3.7/dist-packages/netpyne/cell/compartCell.py\u001b[0m in \u001b[0;36maddConn\u001b[0;34m(self, params, netStimParams)\u001b[0m\n\u001b[1;32m    722\u001b[0m         \u001b[0;31m# Add synaptic mechanisms\u001b[0m\u001b[0;34m\u001b[0m\u001b[0;34m\u001b[0m\u001b[0;34m\u001b[0m\u001b[0m\n\u001b[1;32m    723\u001b[0m         \u001b[0;32mif\u001b[0m \u001b[0;32mnot\u001b[0m \u001b[0mpointp\u001b[0m\u001b[0;34m:\u001b[0m \u001b[0;31m# check not a point process\u001b[0m\u001b[0;34m\u001b[0m\u001b[0;34m\u001b[0m\u001b[0m\n\u001b[0;32m--> 724\u001b[0;31m             \u001b[0msynMechs\u001b[0m\u001b[0;34m,\u001b[0m \u001b[0msynMechSecs\u001b[0m\u001b[0;34m,\u001b[0m \u001b[0msynMechLocs\u001b[0m \u001b[0;34m=\u001b[0m \u001b[0mself\u001b[0m\u001b[0;34m.\u001b[0m\u001b[0m_setConnSynMechs\u001b[0m\u001b[0;34m(\u001b[0m\u001b[0mparams\u001b[0m\u001b[0;34m,\u001b[0m \u001b[0msecLabels\u001b[0m\u001b[0;34m)\u001b[0m\u001b[0;34m\u001b[0m\u001b[0;34m\u001b[0m\u001b[0m\n\u001b[0m\u001b[1;32m    725\u001b[0m             \u001b[0;32mif\u001b[0m \u001b[0msynMechs\u001b[0m \u001b[0;34m==\u001b[0m \u001b[0;34m-\u001b[0m\u001b[0;36m1\u001b[0m\u001b[0;34m:\u001b[0m \u001b[0;32mreturn\u001b[0m\u001b[0;34m\u001b[0m\u001b[0;34m\u001b[0m\u001b[0m\n\u001b[1;32m    726\u001b[0m \u001b[0;34m\u001b[0m\u001b[0m\n",
            "\u001b[0;32m/usr/local/lib/python3.7/dist-packages/netpyne/cell/compartCell.py\u001b[0m in \u001b[0;36m_setConnSynMechs\u001b[0;34m(self, params, secLabels)\u001b[0m\n\u001b[1;32m   1262\u001b[0m \u001b[0;34m\u001b[0m\u001b[0m\n\u001b[1;32m   1263\u001b[0m         \u001b[0;31m# add synaptic mechanism to section based on synMechSecs and synMechLocs (if already exists won't be added unless nonLinear set to True)\u001b[0m\u001b[0;34m\u001b[0m\u001b[0;34m\u001b[0m\u001b[0;34m\u001b[0m\u001b[0m\n\u001b[0;32m-> 1264\u001b[0;31m         \u001b[0msynMechs\u001b[0m \u001b[0;34m=\u001b[0m \u001b[0;34m[\u001b[0m\u001b[0mself\u001b[0m\u001b[0;34m.\u001b[0m\u001b[0maddSynMech\u001b[0m\u001b[0;34m(\u001b[0m\u001b[0msynLabel\u001b[0m\u001b[0;34m=\u001b[0m\u001b[0mparams\u001b[0m\u001b[0;34m[\u001b[0m\u001b[0;34m'synMech'\u001b[0m\u001b[0;34m]\u001b[0m\u001b[0;34m,\u001b[0m \u001b[0msecLabel\u001b[0m\u001b[0;34m=\u001b[0m\u001b[0msynMechSecs\u001b[0m\u001b[0;34m[\u001b[0m\u001b[0mi\u001b[0m\u001b[0;34m]\u001b[0m\u001b[0;34m,\u001b[0m \u001b[0mloc\u001b[0m\u001b[0;34m=\u001b[0m\u001b[0msynMechLocs\u001b[0m\u001b[0;34m[\u001b[0m\u001b[0mi\u001b[0m\u001b[0;34m]\u001b[0m\u001b[0;34m)\u001b[0m \u001b[0;32mfor\u001b[0m \u001b[0mi\u001b[0m \u001b[0;32min\u001b[0m \u001b[0mrange\u001b[0m\u001b[0;34m(\u001b[0m\u001b[0msynsPerConn\u001b[0m\u001b[0;34m)\u001b[0m\u001b[0;34m]\u001b[0m\u001b[0;34m\u001b[0m\u001b[0;34m\u001b[0m\u001b[0m\n\u001b[0m\u001b[1;32m   1265\u001b[0m         \u001b[0;32mreturn\u001b[0m \u001b[0msynMechs\u001b[0m\u001b[0;34m,\u001b[0m \u001b[0msynMechSecs\u001b[0m\u001b[0;34m,\u001b[0m \u001b[0msynMechLocs\u001b[0m\u001b[0;34m\u001b[0m\u001b[0;34m\u001b[0m\u001b[0m\n\u001b[1;32m   1266\u001b[0m \u001b[0;34m\u001b[0m\u001b[0m\n",
            "\u001b[0;32m/usr/local/lib/python3.7/dist-packages/netpyne/cell/compartCell.py\u001b[0m in \u001b[0;36m<listcomp>\u001b[0;34m(.0)\u001b[0m\n\u001b[1;32m   1262\u001b[0m \u001b[0;34m\u001b[0m\u001b[0m\n\u001b[1;32m   1263\u001b[0m         \u001b[0;31m# add synaptic mechanism to section based on synMechSecs and synMechLocs (if already exists won't be added unless nonLinear set to True)\u001b[0m\u001b[0;34m\u001b[0m\u001b[0;34m\u001b[0m\u001b[0;34m\u001b[0m\u001b[0m\n\u001b[0;32m-> 1264\u001b[0;31m         \u001b[0msynMechs\u001b[0m \u001b[0;34m=\u001b[0m \u001b[0;34m[\u001b[0m\u001b[0mself\u001b[0m\u001b[0;34m.\u001b[0m\u001b[0maddSynMech\u001b[0m\u001b[0;34m(\u001b[0m\u001b[0msynLabel\u001b[0m\u001b[0;34m=\u001b[0m\u001b[0mparams\u001b[0m\u001b[0;34m[\u001b[0m\u001b[0;34m'synMech'\u001b[0m\u001b[0;34m]\u001b[0m\u001b[0;34m,\u001b[0m \u001b[0msecLabel\u001b[0m\u001b[0;34m=\u001b[0m\u001b[0msynMechSecs\u001b[0m\u001b[0;34m[\u001b[0m\u001b[0mi\u001b[0m\u001b[0;34m]\u001b[0m\u001b[0;34m,\u001b[0m \u001b[0mloc\u001b[0m\u001b[0;34m=\u001b[0m\u001b[0msynMechLocs\u001b[0m\u001b[0;34m[\u001b[0m\u001b[0mi\u001b[0m\u001b[0;34m]\u001b[0m\u001b[0;34m)\u001b[0m \u001b[0;32mfor\u001b[0m \u001b[0mi\u001b[0m \u001b[0;32min\u001b[0m \u001b[0mrange\u001b[0m\u001b[0;34m(\u001b[0m\u001b[0msynsPerConn\u001b[0m\u001b[0;34m)\u001b[0m\u001b[0;34m]\u001b[0m\u001b[0;34m\u001b[0m\u001b[0;34m\u001b[0m\u001b[0m\n\u001b[0m\u001b[1;32m   1265\u001b[0m         \u001b[0;32mreturn\u001b[0m \u001b[0msynMechs\u001b[0m\u001b[0;34m,\u001b[0m \u001b[0msynMechSecs\u001b[0m\u001b[0;34m,\u001b[0m \u001b[0msynMechLocs\u001b[0m\u001b[0;34m\u001b[0m\u001b[0;34m\u001b[0m\u001b[0m\n\u001b[1;32m   1266\u001b[0m \u001b[0;34m\u001b[0m\u001b[0m\n",
            "\u001b[0;32m/usr/local/lib/python3.7/dist-packages/netpyne/cell/compartCell.py\u001b[0m in \u001b[0;36maddSynMech\u001b[0;34m(self, synLabel, secLabel, loc)\u001b[0m\n\u001b[1;32m    624\u001b[0m                     \u001b[0msec\u001b[0m\u001b[0;34m[\u001b[0m\u001b[0;34m'synMechs'\u001b[0m\u001b[0;34m]\u001b[0m\u001b[0;34m.\u001b[0m\u001b[0mappend\u001b[0m\u001b[0;34m(\u001b[0m\u001b[0msynMech\u001b[0m\u001b[0;34m)\u001b[0m\u001b[0;34m\u001b[0m\u001b[0;34m\u001b[0m\u001b[0m\n\u001b[1;32m    625\u001b[0m                 \u001b[0;31m# add the NEURON object\u001b[0m\u001b[0;34m\u001b[0m\u001b[0;34m\u001b[0m\u001b[0;34m\u001b[0m\u001b[0m\n\u001b[0;32m--> 626\u001b[0;31m                 \u001b[0mself\u001b[0m\u001b[0;34m.\u001b[0m\u001b[0maddSynMechNEURONObj\u001b[0m\u001b[0;34m(\u001b[0m\u001b[0msynMech\u001b[0m\u001b[0;34m,\u001b[0m \u001b[0msynMechParams\u001b[0m\u001b[0;34m,\u001b[0m \u001b[0msec\u001b[0m\u001b[0;34m,\u001b[0m \u001b[0mloc\u001b[0m\u001b[0;34m)\u001b[0m\u001b[0;34m\u001b[0m\u001b[0;34m\u001b[0m\u001b[0m\n\u001b[0m\u001b[1;32m    627\u001b[0m             \u001b[0;32melse\u001b[0m\u001b[0;34m:\u001b[0m\u001b[0;34m\u001b[0m\u001b[0;34m\u001b[0m\u001b[0m\n\u001b[1;32m    628\u001b[0m                 \u001b[0msynMech\u001b[0m \u001b[0;34m=\u001b[0m \u001b[0;32mNone\u001b[0m\u001b[0;34m\u001b[0m\u001b[0;34m\u001b[0m\u001b[0m\n",
            "\u001b[0;32m/usr/local/lib/python3.7/dist-packages/netpyne/cell/compartCell.py\u001b[0m in \u001b[0;36maddSynMechNEURONObj\u001b[0;34m(self, synMech, synMechParams, sec, loc)\u001b[0m\n\u001b[1;32m    466\u001b[0m             \u001b[0;32mfor\u001b[0m \u001b[0msynParamName\u001b[0m\u001b[0;34m,\u001b[0m\u001b[0msynParamValue\u001b[0m \u001b[0;32min\u001b[0m \u001b[0msynMechParams\u001b[0m\u001b[0;34m.\u001b[0m\u001b[0mitems\u001b[0m\u001b[0;34m(\u001b[0m\u001b[0;34m)\u001b[0m\u001b[0;34m:\u001b[0m  \u001b[0;31m# add params of the synaptic mechanism\u001b[0m\u001b[0;34m\u001b[0m\u001b[0;34m\u001b[0m\u001b[0m\n\u001b[1;32m    467\u001b[0m                 \u001b[0;32mif\u001b[0m \u001b[0msynParamName\u001b[0m \u001b[0;32mnot\u001b[0m \u001b[0;32min\u001b[0m \u001b[0;34m[\u001b[0m\u001b[0;34m'label'\u001b[0m\u001b[0;34m,\u001b[0m \u001b[0;34m'mod'\u001b[0m\u001b[0;34m,\u001b[0m \u001b[0;34m'selfNetCon'\u001b[0m\u001b[0;34m,\u001b[0m \u001b[0;34m'loc'\u001b[0m\u001b[0;34m]\u001b[0m\u001b[0;34m:\u001b[0m\u001b[0;34m\u001b[0m\u001b[0;34m\u001b[0m\u001b[0m\n\u001b[0;32m--> 468\u001b[0;31m                     \u001b[0msetattr\u001b[0m\u001b[0;34m(\u001b[0m\u001b[0msynMech\u001b[0m\u001b[0;34m[\u001b[0m\u001b[0;34m'hObj'\u001b[0m\u001b[0;34m]\u001b[0m\u001b[0;34m,\u001b[0m \u001b[0msynParamName\u001b[0m\u001b[0;34m,\u001b[0m \u001b[0msynParamValue\u001b[0m\u001b[0;34m)\u001b[0m\u001b[0;34m\u001b[0m\u001b[0;34m\u001b[0m\u001b[0m\n\u001b[0m\u001b[1;32m    469\u001b[0m                 \u001b[0;32melif\u001b[0m \u001b[0msynParamName\u001b[0m \u001b[0;34m==\u001b[0m \u001b[0;34m'selfNetcon'\u001b[0m\u001b[0;34m:\u001b[0m  \u001b[0;31m# create self netcon required for some synapses (eg. homeostatic)\u001b[0m\u001b[0;34m\u001b[0m\u001b[0;34m\u001b[0m\u001b[0m\n\u001b[1;32m    470\u001b[0m                     \u001b[0msecLabelNetCon\u001b[0m \u001b[0;34m=\u001b[0m \u001b[0msynParamValue\u001b[0m\u001b[0;34m.\u001b[0m\u001b[0mget\u001b[0m\u001b[0;34m(\u001b[0m\u001b[0;34m'sec'\u001b[0m\u001b[0;34m,\u001b[0m \u001b[0;34m'soma'\u001b[0m\u001b[0;34m)\u001b[0m\u001b[0;34m\u001b[0m\u001b[0;34m\u001b[0m\u001b[0m\n",
            "\u001b[0;31mLookupError\u001b[0m: 'inh' is not a defined hoc variable name."
          ]
        }
      ]
    },
    {
      "cell_type": "code",
      "metadata": {
        "id": "G1Z-Kd9jZ6lp"
      },
      "source": [
        ""
      ],
      "execution_count": null,
      "outputs": []
    },
    {
      "cell_type": "markdown",
      "metadata": {
        "id": "P8deeT59anO8"
      },
      "source": [
        "\n",
        "1) Start from netpyne tut2.py (in editor or Jupyter notebook)\n",
        "\n",
        "2) Rename the 'M' pop to 'I' pop (inhibitory population) \n",
        "\n",
        "3) Add an inhibitory synapse called 'inh' with the same properties as 'exc', except equlibrium potential = -70\n",
        "\n",
        "4) Increase background input ('bkg') rate to 50 Hz and target only the 'S' population: 'conds': {'pop': 'S'}\n",
        "\n",
        "5) Add spike histogram: `simConfig.analysis['plotSpikeHist'] = {'include': ['S', 'I']}`\n",
        "\n",
        "6) Run the model\n",
        "\n",
        "Why are some cells not spiking?\n",
        "\n",
        "7) Change the connection S->M to S->I (you need to change both the label and the conditions!)\n",
        "\n",
        "8) Reduce the S->I divergence to 1.\n",
        "\n",
        "9) Add a connection I->S with probability: 0.7, weight: 0.02, delay: 5, synMech: 'inh'\n",
        "\n",
        "10) Compare synchrony: add `'syncLines':True` to plotRaster\n",
        "\n",
        "11) Modify parameters (weight, probability, delay, tau2,…) to get different levels of synchrony and oscillation frequencies\n",
        "\n"
      ]
    }
  ]
}