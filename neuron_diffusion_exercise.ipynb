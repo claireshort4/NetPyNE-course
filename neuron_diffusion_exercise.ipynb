{
  "nbformat": 4,
  "nbformat_minor": 0,
  "metadata": {
    "colab": {
      "name": "neuron-diffusion-exercise.ipynb",
      "provenance": [],
      "collapsed_sections": [],
      "include_colab_link": true
    },
    "kernelspec": {
      "name": "python3",
      "display_name": "Python 3"
    }
  },
  "cells": [
    {
      "cell_type": "markdown",
      "metadata": {
        "id": "view-in-github",
        "colab_type": "text"
      },
      "source": [
        "<a href=\"https://colab.research.google.com/github/claireshort4/NetPyNE-course/blob/main/neuron_diffusion_exercise.ipynb\" target=\"_parent\"><img src=\"https://colab.research.google.com/assets/colab-badge.svg\" alt=\"Open In Colab\"/></a>"
      ]
    },
    {
      "cell_type": "markdown",
      "metadata": {
        "id": "PplSOiNzQCHO"
      },
      "source": [
        "# Load libraries"
      ]
    },
    {
      "cell_type": "markdown",
      "metadata": {
        "id": "Dj3xwUWqQGL-"
      },
      "source": [
        "As usual, we'll want NEURON's h and rxd modules, its standard run system, and some basic units."
      ]
    },
    {
      "cell_type": "code",
      "metadata": {
        "id": "JaAV8FELP_0c",
        "colab": {
          "base_uri": "https://localhost:8080/",
          "height": 52
        },
        "outputId": "792dc6c8-bab6-4f97-ac1f-bdfeb5dc0694"
      },
      "source": [
        "!pip install neuron"
      ],
      "execution_count": null,
      "outputs": [
        {
          "output_type": "stream",
          "text": [
            "Requirement already satisfied: neuron in /usr/local/lib/python3.6/dist-packages (7.8.0.119)\n",
            "Requirement already satisfied: numpy>=1.9.3 in /usr/local/lib/python3.6/dist-packages (from neuron) (1.18.3)\n"
          ],
          "name": "stdout"
        }
      ]
    },
    {
      "cell_type": "code",
      "metadata": {
        "id": "7q8mLz_AQFT2",
        "colab": {
          "base_uri": "https://localhost:8080/",
          "height": 34
        },
        "outputId": "cf74d5ff-2f4a-4ac8-8e84-b8cf03e84c0d"
      },
      "source": [
        "from neuron import h, rxd\n",
        "from neuron.units import um, ms, mV\n",
        "h.load_file('stdrun.hoc')"
      ],
      "execution_count": null,
      "outputs": [
        {
          "output_type": "execute_result",
          "data": {
            "text/plain": [
              "1.0"
            ]
          },
          "metadata": {
            "tags": []
          },
          "execution_count": 2
        }
      ]
    },
    {
      "cell_type": "markdown",
      "metadata": {
        "id": "jwK2o9W9QWuG"
      },
      "source": [
        "\n",
        "\n",
        "We'll also use bokeh to plot concentrations of circadian proteins over time. We could of course use matplotlib, plotly, plotnine, or any other plotting library.\n"
      ]
    },
    {
      "cell_type": "code",
      "metadata": {
        "id": "dxhSiuu3QPMU"
      },
      "source": [
        "from bokeh.io import output_notebook\n",
        "import bokeh.plotting as plt\n",
        "output_notebook()"
      ],
      "execution_count": null,
      "outputs": []
    },
    {
      "cell_type": "markdown",
      "metadata": {
        "id": "Fnjr-6qrQh9g"
      },
      "source": [
        "# Lets start with a section"
      ]
    },
    {
      "cell_type": "code",
      "metadata": {
        "id": "kxD3qAyQQl0X"
      },
      "source": [
        "dend = h.Section(name='dend')"
      ],
      "execution_count": null,
      "outputs": []
    },
    {
      "cell_type": "markdown",
      "metadata": {
        "id": "SjiWe7v5QuwR"
      },
      "source": [
        "# Your turn\n",
        "\n",
        "Set the dendrite to have a length of 100 µm. Add a species ip3 with diffusion constant of 1 µm<sup>2</sup>/ms such that at t=0, there is 1 mM of ip3 at positions 40-60 µm and 0 elsewhere.\n",
        "\n",
        "(Hint: before you can add the species, you must also add the corresponding region. Be sure to choose an appropriate choice of `nseg`. Think about why that matters.)"
      ]
    },
    {
      "cell_type": "code",
      "metadata": {
        "id": "WDHQlw_xQzK0"
      },
      "source": [
        ""
      ],
      "execution_count": null,
      "outputs": []
    },
    {
      "cell_type": "markdown",
      "metadata": {
        "id": "Qj3BdP_OQ6cd"
      },
      "source": [
        "# Run the simulation and plot it"
      ]
    },
    {
      "cell_type": "code",
      "metadata": {
        "id": "ySHYgXiTRB4o",
        "colab": {
          "base_uri": "https://localhost:8080/",
          "height": 617
        },
        "outputId": "caf399f8-5105-4ae6-da68-6602d7974dfd"
      },
      "source": [
        "h.finitialize(-65 * mV)\n",
        "rvp = h.RangeVarPlot(ip3, dend(0), dend(1))\n",
        "fig = plt.Figure(x_axis_label='position (µm)', y_axis_label='[ip3] (mM)')\n",
        "for tstop, color in [(0, 'black'), (50, 'blue'), (100, 'red'), (150, 'green')]:\n",
        "  h.continuerun(tstop)\n",
        "  rvp.plot(fig, color=color, legend_label=f'{tstop} ms')\n",
        "\n",
        "plt.show(fig)"
      ],
      "execution_count": null,
      "outputs": [
        {
          "output_type": "display_data",
          "data": {
            "application/javascript": [
              "\n",
              "(function(root) {\n",
              "  function now() {\n",
              "    return new Date();\n",
              "  }\n",
              "\n",
              "  var force = true;\n",
              "\n",
              "  if (typeof root._bokeh_onload_callbacks === \"undefined\" || force === true) {\n",
              "    root._bokeh_onload_callbacks = [];\n",
              "    root._bokeh_is_loading = undefined;\n",
              "  }\n",
              "\n",
              "  var JS_MIME_TYPE = 'application/javascript';\n",
              "  var HTML_MIME_TYPE = 'text/html';\n",
              "  var EXEC_MIME_TYPE = 'application/vnd.bokehjs_exec.v0+json';\n",
              "  var CLASS_NAME = 'output_bokeh rendered_html';\n",
              "\n",
              "  /**\n",
              "   * Render data to the DOM node\n",
              "   */\n",
              "  function render(props, node) {\n",
              "    var script = document.createElement(\"script\");\n",
              "    node.appendChild(script);\n",
              "  }\n",
              "\n",
              "  /**\n",
              "   * Handle when an output is cleared or removed\n",
              "   */\n",
              "  function handleClearOutput(event, handle) {\n",
              "    var cell = handle.cell;\n",
              "\n",
              "    var id = cell.output_area._bokeh_element_id;\n",
              "    var server_id = cell.output_area._bokeh_server_id;\n",
              "    // Clean up Bokeh references\n",
              "    if (id != null && id in Bokeh.index) {\n",
              "      Bokeh.index[id].model.document.clear();\n",
              "      delete Bokeh.index[id];\n",
              "    }\n",
              "\n",
              "    if (server_id !== undefined) {\n",
              "      // Clean up Bokeh references\n",
              "      var cmd = \"from bokeh.io.state import curstate; print(curstate().uuid_to_server['\" + server_id + \"'].get_sessions()[0].document.roots[0]._id)\";\n",
              "      cell.notebook.kernel.execute(cmd, {\n",
              "        iopub: {\n",
              "          output: function(msg) {\n",
              "            var id = msg.content.text.trim();\n",
              "            if (id in Bokeh.index) {\n",
              "              Bokeh.index[id].model.document.clear();\n",
              "              delete Bokeh.index[id];\n",
              "            }\n",
              "          }\n",
              "        }\n",
              "      });\n",
              "      // Destroy server and session\n",
              "      var cmd = \"import bokeh.io.notebook as ion; ion.destroy_server('\" + server_id + \"')\";\n",
              "      cell.notebook.kernel.execute(cmd);\n",
              "    }\n",
              "  }\n",
              "\n",
              "  /**\n",
              "   * Handle when a new output is added\n",
              "   */\n",
              "  function handleAddOutput(event, handle) {\n",
              "    var output_area = handle.output_area;\n",
              "    var output = handle.output;\n",
              "\n",
              "    // limit handleAddOutput to display_data with EXEC_MIME_TYPE content only\n",
              "    if ((output.output_type != \"display_data\") || (!output.data.hasOwnProperty(EXEC_MIME_TYPE))) {\n",
              "      return\n",
              "    }\n",
              "\n",
              "    var toinsert = output_area.element.find(\".\" + CLASS_NAME.split(' ')[0]);\n",
              "\n",
              "    if (output.metadata[EXEC_MIME_TYPE][\"id\"] !== undefined) {\n",
              "      toinsert[toinsert.length - 1].firstChild.textContent = output.data[JS_MIME_TYPE];\n",
              "      // store reference to embed id on output_area\n",
              "      output_area._bokeh_element_id = output.metadata[EXEC_MIME_TYPE][\"id\"];\n",
              "    }\n",
              "    if (output.metadata[EXEC_MIME_TYPE][\"server_id\"] !== undefined) {\n",
              "      var bk_div = document.createElement(\"div\");\n",
              "      bk_div.innerHTML = output.data[HTML_MIME_TYPE];\n",
              "      var script_attrs = bk_div.children[0].attributes;\n",
              "      for (var i = 0; i < script_attrs.length; i++) {\n",
              "        toinsert[toinsert.length - 1].firstChild.setAttribute(script_attrs[i].name, script_attrs[i].value);\n",
              "      }\n",
              "      // store reference to server id on output_area\n",
              "      output_area._bokeh_server_id = output.metadata[EXEC_MIME_TYPE][\"server_id\"];\n",
              "    }\n",
              "  }\n",
              "\n",
              "  function register_renderer(events, OutputArea) {\n",
              "\n",
              "    function append_mime(data, metadata, element) {\n",
              "      // create a DOM node to render to\n",
              "      var toinsert = this.create_output_subarea(\n",
              "        metadata,\n",
              "        CLASS_NAME,\n",
              "        EXEC_MIME_TYPE\n",
              "      );\n",
              "      this.keyboard_manager.register_events(toinsert);\n",
              "      // Render to node\n",
              "      var props = {data: data, metadata: metadata[EXEC_MIME_TYPE]};\n",
              "      render(props, toinsert[toinsert.length - 1]);\n",
              "      element.append(toinsert);\n",
              "      return toinsert\n",
              "    }\n",
              "\n",
              "    /* Handle when an output is cleared or removed */\n",
              "    events.on('clear_output.CodeCell', handleClearOutput);\n",
              "    events.on('delete.Cell', handleClearOutput);\n",
              "\n",
              "    /* Handle when a new output is added */\n",
              "    events.on('output_added.OutputArea', handleAddOutput);\n",
              "\n",
              "    /**\n",
              "     * Register the mime type and append_mime function with output_area\n",
              "     */\n",
              "    OutputArea.prototype.register_mime_type(EXEC_MIME_TYPE, append_mime, {\n",
              "      /* Is output safe? */\n",
              "      safe: true,\n",
              "      /* Index of renderer in `output_area.display_order` */\n",
              "      index: 0\n",
              "    });\n",
              "  }\n",
              "\n",
              "  // register the mime type if in Jupyter Notebook environment and previously unregistered\n",
              "  if (root.Jupyter !== undefined) {\n",
              "    var events = require('base/js/events');\n",
              "    var OutputArea = require('notebook/js/outputarea').OutputArea;\n",
              "\n",
              "    if (OutputArea.prototype.mime_types().indexOf(EXEC_MIME_TYPE) == -1) {\n",
              "      register_renderer(events, OutputArea);\n",
              "    }\n",
              "  }\n",
              "\n",
              "  \n",
              "  if (typeof (root._bokeh_timeout) === \"undefined\" || force === true) {\n",
              "    root._bokeh_timeout = Date.now() + 5000;\n",
              "    root._bokeh_failed_load = false;\n",
              "  }\n",
              "\n",
              "  var NB_LOAD_WARNING = {'data': {'text/html':\n",
              "     \"<div style='background-color: #fdd'>\\n\"+\n",
              "     \"<p>\\n\"+\n",
              "     \"BokehJS does not appear to have successfully loaded. If loading BokehJS from CDN, this \\n\"+\n",
              "     \"may be due to a slow or bad network connection. Possible fixes:\\n\"+\n",
              "     \"</p>\\n\"+\n",
              "     \"<ul>\\n\"+\n",
              "     \"<li>re-rerun `output_notebook()` to attempt to load from CDN again, or</li>\\n\"+\n",
              "     \"<li>use INLINE resources instead, as so:</li>\\n\"+\n",
              "     \"</ul>\\n\"+\n",
              "     \"<code>\\n\"+\n",
              "     \"from bokeh.resources import INLINE\\n\"+\n",
              "     \"output_notebook(resources=INLINE)\\n\"+\n",
              "     \"</code>\\n\"+\n",
              "     \"</div>\"}};\n",
              "\n",
              "  function display_loaded() {\n",
              "    var el = document.getElementById(null);\n",
              "    if (el != null) {\n",
              "      el.textContent = \"BokehJS is loading...\";\n",
              "    }\n",
              "    if (root.Bokeh !== undefined) {\n",
              "      if (el != null) {\n",
              "        el.textContent = \"BokehJS \" + root.Bokeh.version + \" successfully loaded.\";\n",
              "      }\n",
              "    } else if (Date.now() < root._bokeh_timeout) {\n",
              "      setTimeout(display_loaded, 100)\n",
              "    }\n",
              "  }\n",
              "\n",
              "\n",
              "  function run_callbacks() {\n",
              "    try {\n",
              "      root._bokeh_onload_callbacks.forEach(function(callback) {\n",
              "        if (callback != null)\n",
              "          callback();\n",
              "      });\n",
              "    } finally {\n",
              "      delete root._bokeh_onload_callbacks\n",
              "    }\n",
              "    console.debug(\"Bokeh: all callbacks have finished\");\n",
              "  }\n",
              "\n",
              "  function load_libs(css_urls, js_urls, callback) {\n",
              "    if (css_urls == null) css_urls = [];\n",
              "    if (js_urls == null) js_urls = [];\n",
              "\n",
              "    root._bokeh_onload_callbacks.push(callback);\n",
              "    if (root._bokeh_is_loading > 0) {\n",
              "      console.debug(\"Bokeh: BokehJS is being loaded, scheduling callback at\", now());\n",
              "      return null;\n",
              "    }\n",
              "    if (js_urls == null || js_urls.length === 0) {\n",
              "      run_callbacks();\n",
              "      return null;\n",
              "    }\n",
              "    console.debug(\"Bokeh: BokehJS not loaded, scheduling load and callback at\", now());\n",
              "    root._bokeh_is_loading = css_urls.length + js_urls.length;\n",
              "\n",
              "    function on_load() {\n",
              "      root._bokeh_is_loading--;\n",
              "      if (root._bokeh_is_loading === 0) {\n",
              "        console.debug(\"Bokeh: all BokehJS libraries/stylesheets loaded\");\n",
              "        run_callbacks()\n",
              "      }\n",
              "    }\n",
              "\n",
              "    function on_error() {\n",
              "      console.error(\"failed to load \" + url);\n",
              "    }\n",
              "\n",
              "    for (var i = 0; i < css_urls.length; i++) {\n",
              "      var url = css_urls[i];\n",
              "      const element = document.createElement(\"link\");\n",
              "      element.onload = on_load;\n",
              "      element.onerror = on_error;\n",
              "      element.rel = \"stylesheet\";\n",
              "      element.type = \"text/css\";\n",
              "      element.href = url;\n",
              "      console.debug(\"Bokeh: injecting link tag for BokehJS stylesheet: \", url);\n",
              "      document.body.appendChild(element);\n",
              "    }\n",
              "\n",
              "    for (var i = 0; i < js_urls.length; i++) {\n",
              "      var url = js_urls[i];\n",
              "      var element = document.createElement('script');\n",
              "      element.onload = on_load;\n",
              "      element.onerror = on_error;\n",
              "      element.async = false;\n",
              "      element.src = url;\n",
              "      console.debug(\"Bokeh: injecting script tag for BokehJS library: \", url);\n",
              "      document.head.appendChild(element);\n",
              "    }\n",
              "  };\n",
              "\n",
              "  function inject_raw_css(css) {\n",
              "    const element = document.createElement(\"style\");\n",
              "    element.appendChild(document.createTextNode(css));\n",
              "    document.body.appendChild(element);\n",
              "  }\n",
              "\n",
              "  \n",
              "  var js_urls = [\"https://cdn.pydata.org/bokeh/release/bokeh-1.4.0.min.js\", \"https://cdn.pydata.org/bokeh/release/bokeh-widgets-1.4.0.min.js\", \"https://cdn.pydata.org/bokeh/release/bokeh-tables-1.4.0.min.js\", \"https://cdn.pydata.org/bokeh/release/bokeh-gl-1.4.0.min.js\"];\n",
              "  var css_urls = [];\n",
              "  \n",
              "\n",
              "  var inline_js = [\n",
              "    function(Bokeh) {\n",
              "      Bokeh.set_log_level(\"info\");\n",
              "    },\n",
              "    function(Bokeh) {\n",
              "    \n",
              "    \n",
              "    }\n",
              "  ];\n",
              "\n",
              "  function run_inline_js() {\n",
              "    \n",
              "    if (root.Bokeh !== undefined || force === true) {\n",
              "      \n",
              "    for (var i = 0; i < inline_js.length; i++) {\n",
              "      inline_js[i].call(root, root.Bokeh);\n",
              "    }\n",
              "    } else if (Date.now() < root._bokeh_timeout) {\n",
              "      setTimeout(run_inline_js, 100);\n",
              "    } else if (!root._bokeh_failed_load) {\n",
              "      console.log(\"Bokeh: BokehJS failed to load within specified timeout.\");\n",
              "      root._bokeh_failed_load = true;\n",
              "    } else if (force !== true) {\n",
              "      var cell = $(document.getElementById(null)).parents('.cell').data().cell;\n",
              "      cell.output_area.append_execute_result(NB_LOAD_WARNING)\n",
              "    }\n",
              "\n",
              "  }\n",
              "\n",
              "  if (root._bokeh_is_loading === 0) {\n",
              "    console.debug(\"Bokeh: BokehJS loaded, going straight to plotting\");\n",
              "    run_inline_js();\n",
              "  } else {\n",
              "    load_libs(css_urls, js_urls, function() {\n",
              "      console.debug(\"Bokeh: BokehJS plotting callback run at\", now());\n",
              "      run_inline_js();\n",
              "    });\n",
              "  }\n",
              "}(window));"
            ],
            "application/vnd.bokehjs_load.v0+json": "\n(function(root) {\n  function now() {\n    return new Date();\n  }\n\n  var force = true;\n\n  if (typeof root._bokeh_onload_callbacks === \"undefined\" || force === true) {\n    root._bokeh_onload_callbacks = [];\n    root._bokeh_is_loading = undefined;\n  }\n\n  \n\n  \n  if (typeof (root._bokeh_timeout) === \"undefined\" || force === true) {\n    root._bokeh_timeout = Date.now() + 5000;\n    root._bokeh_failed_load = false;\n  }\n\n  var NB_LOAD_WARNING = {'data': {'text/html':\n     \"<div style='background-color: #fdd'>\\n\"+\n     \"<p>\\n\"+\n     \"BokehJS does not appear to have successfully loaded. If loading BokehJS from CDN, this \\n\"+\n     \"may be due to a slow or bad network connection. Possible fixes:\\n\"+\n     \"</p>\\n\"+\n     \"<ul>\\n\"+\n     \"<li>re-rerun `output_notebook()` to attempt to load from CDN again, or</li>\\n\"+\n     \"<li>use INLINE resources instead, as so:</li>\\n\"+\n     \"</ul>\\n\"+\n     \"<code>\\n\"+\n     \"from bokeh.resources import INLINE\\n\"+\n     \"output_notebook(resources=INLINE)\\n\"+\n     \"</code>\\n\"+\n     \"</div>\"}};\n\n  function display_loaded() {\n    var el = document.getElementById(null);\n    if (el != null) {\n      el.textContent = \"BokehJS is loading...\";\n    }\n    if (root.Bokeh !== undefined) {\n      if (el != null) {\n        el.textContent = \"BokehJS \" + root.Bokeh.version + \" successfully loaded.\";\n      }\n    } else if (Date.now() < root._bokeh_timeout) {\n      setTimeout(display_loaded, 100)\n    }\n  }\n\n\n  function run_callbacks() {\n    try {\n      root._bokeh_onload_callbacks.forEach(function(callback) {\n        if (callback != null)\n          callback();\n      });\n    } finally {\n      delete root._bokeh_onload_callbacks\n    }\n    console.debug(\"Bokeh: all callbacks have finished\");\n  }\n\n  function load_libs(css_urls, js_urls, callback) {\n    if (css_urls == null) css_urls = [];\n    if (js_urls == null) js_urls = [];\n\n    root._bokeh_onload_callbacks.push(callback);\n    if (root._bokeh_is_loading > 0) {\n      console.debug(\"Bokeh: BokehJS is being loaded, scheduling callback at\", now());\n      return null;\n    }\n    if (js_urls == null || js_urls.length === 0) {\n      run_callbacks();\n      return null;\n    }\n    console.debug(\"Bokeh: BokehJS not loaded, scheduling load and callback at\", now());\n    root._bokeh_is_loading = css_urls.length + js_urls.length;\n\n    function on_load() {\n      root._bokeh_is_loading--;\n      if (root._bokeh_is_loading === 0) {\n        console.debug(\"Bokeh: all BokehJS libraries/stylesheets loaded\");\n        run_callbacks()\n      }\n    }\n\n    function on_error() {\n      console.error(\"failed to load \" + url);\n    }\n\n    for (var i = 0; i < css_urls.length; i++) {\n      var url = css_urls[i];\n      const element = document.createElement(\"link\");\n      element.onload = on_load;\n      element.onerror = on_error;\n      element.rel = \"stylesheet\";\n      element.type = \"text/css\";\n      element.href = url;\n      console.debug(\"Bokeh: injecting link tag for BokehJS stylesheet: \", url);\n      document.body.appendChild(element);\n    }\n\n    for (var i = 0; i < js_urls.length; i++) {\n      var url = js_urls[i];\n      var element = document.createElement('script');\n      element.onload = on_load;\n      element.onerror = on_error;\n      element.async = false;\n      element.src = url;\n      console.debug(\"Bokeh: injecting script tag for BokehJS library: \", url);\n      document.head.appendChild(element);\n    }\n  };\n\n  function inject_raw_css(css) {\n    const element = document.createElement(\"style\");\n    element.appendChild(document.createTextNode(css));\n    document.body.appendChild(element);\n  }\n\n  \n  var js_urls = [\"https://cdn.pydata.org/bokeh/release/bokeh-1.4.0.min.js\", \"https://cdn.pydata.org/bokeh/release/bokeh-widgets-1.4.0.min.js\", \"https://cdn.pydata.org/bokeh/release/bokeh-tables-1.4.0.min.js\", \"https://cdn.pydata.org/bokeh/release/bokeh-gl-1.4.0.min.js\"];\n  var css_urls = [];\n  \n\n  var inline_js = [\n    function(Bokeh) {\n      Bokeh.set_log_level(\"info\");\n    },\n    function(Bokeh) {\n    \n    \n    }\n  ];\n\n  function run_inline_js() {\n    \n    if (root.Bokeh !== undefined || force === true) {\n      \n    for (var i = 0; i < inline_js.length; i++) {\n      inline_js[i].call(root, root.Bokeh);\n    }\n    } else if (Date.now() < root._bokeh_timeout) {\n      setTimeout(run_inline_js, 100);\n    } else if (!root._bokeh_failed_load) {\n      console.log(\"Bokeh: BokehJS failed to load within specified timeout.\");\n      root._bokeh_failed_load = true;\n    } else if (force !== true) {\n      var cell = $(document.getElementById(null)).parents('.cell').data().cell;\n      cell.output_area.append_execute_result(NB_LOAD_WARNING)\n    }\n\n  }\n\n  if (root._bokeh_is_loading === 0) {\n    console.debug(\"Bokeh: BokehJS loaded, going straight to plotting\");\n    run_inline_js();\n  } else {\n    load_libs(css_urls, js_urls, function() {\n      console.debug(\"Bokeh: BokehJS plotting callback run at\", now());\n      run_inline_js();\n    });\n  }\n}(window));"
          },
          "metadata": {
            "tags": []
          }
        },
        {
          "output_type": "display_data",
          "data": {
            "text/html": [
              "\n",
              "\n",
              "\n",
              "\n",
              "\n",
              "\n",
              "  <div class=\"bk-root\" id=\"2bd4d708-db15-4119-91c3-d7f08ffcda12\" data-root-id=\"2421\"></div>\n"
            ]
          },
          "metadata": {
            "tags": []
          }
        },
        {
          "output_type": "display_data",
          "data": {
            "application/javascript": [
              "(function(root) {\n",
              "  function embed_document(root) {\n",
              "    \n",
              "  var docs_json = {\"f9f4bd85-fa2b-4c6a-b205-ff979c841eaf\":{\"roots\":{\"references\":[{\"attributes\":{\"below\":[{\"id\":\"2430\",\"type\":\"LinearAxis\"}],\"center\":[{\"id\":\"2434\",\"type\":\"Grid\"},{\"id\":\"2439\",\"type\":\"Grid\"},{\"id\":\"2465\",\"type\":\"Legend\"}],\"left\":[{\"id\":\"2435\",\"type\":\"LinearAxis\"}],\"renderers\":[{\"id\":\"2456\",\"type\":\"GlyphRenderer\"},{\"id\":\"2470\",\"type\":\"GlyphRenderer\"},{\"id\":\"2485\",\"type\":\"GlyphRenderer\"},{\"id\":\"2502\",\"type\":\"GlyphRenderer\"}],\"title\":{\"id\":\"2459\",\"type\":\"Title\"},\"toolbar\":{\"id\":\"2446\",\"type\":\"Toolbar\"},\"x_range\":{\"id\":\"2422\",\"type\":\"DataRange1d\"},\"x_scale\":{\"id\":\"2426\",\"type\":\"LinearScale\"},\"y_range\":{\"id\":\"2424\",\"type\":\"DataRange1d\"},\"y_scale\":{\"id\":\"2428\",\"type\":\"LinearScale\"}},\"id\":\"2421\",\"subtype\":\"Figure\",\"type\":\"Plot\"},{\"attributes\":{},\"id\":\"2624\",\"type\":\"UnionRenderers\"},{\"attributes\":{\"callback\":null},\"id\":\"2424\",\"type\":\"DataRange1d\"},{\"attributes\":{\"line_color\":\"red\",\"x\":{\"field\":\"x\"},\"y\":{\"field\":\"y\"}},\"id\":\"2483\",\"type\":\"Line\"},{\"attributes\":{},\"id\":\"2479\",\"type\":\"UnionRenderers\"},{\"attributes\":{},\"id\":\"2496\",\"type\":\"UnionRenderers\"},{\"attributes\":{},\"id\":\"2426\",\"type\":\"LinearScale\"},{\"attributes\":{\"line_alpha\":0.1,\"line_color\":\"#1f77b4\",\"x\":{\"field\":\"x\"},\"y\":{\"field\":\"y\"}},\"id\":\"2455\",\"type\":\"Line\"},{\"attributes\":{},\"id\":\"2625\",\"type\":\"Selection\"},{\"attributes\":{\"line_alpha\":0.1,\"line_color\":\"#1f77b4\",\"x\":{\"field\":\"x\"},\"y\":{\"field\":\"y\"}},\"id\":\"2484\",\"type\":\"Line\"},{\"attributes\":{\"data_source\":{\"id\":\"2453\",\"type\":\"ColumnDataSource\"},\"glyph\":{\"id\":\"2454\",\"type\":\"Line\"},\"hover_glyph\":null,\"muted_glyph\":null,\"nonselection_glyph\":{\"id\":\"2455\",\"type\":\"Line\"},\"selection_glyph\":null,\"view\":{\"id\":\"2457\",\"type\":\"CDSView\"}},\"id\":\"2456\",\"type\":\"GlyphRenderer\"},{\"attributes\":{},\"id\":\"2428\",\"type\":\"LinearScale\"},{\"attributes\":{\"source\":{\"id\":\"2453\",\"type\":\"ColumnDataSource\"}},\"id\":\"2457\",\"type\":\"CDSView\"},{\"attributes\":{\"data_source\":{\"id\":\"2482\",\"type\":\"ColumnDataSource\"},\"glyph\":{\"id\":\"2483\",\"type\":\"Line\"},\"hover_glyph\":null,\"muted_glyph\":null,\"nonselection_glyph\":{\"id\":\"2484\",\"type\":\"Line\"},\"selection_glyph\":null,\"view\":{\"id\":\"2486\",\"type\":\"CDSView\"}},\"id\":\"2485\",\"type\":\"GlyphRenderer\"},{\"attributes\":{\"axis_label\":\"position (\\u00b5m)\",\"formatter\":{\"id\":\"2461\",\"type\":\"BasicTickFormatter\"},\"ticker\":{\"id\":\"2431\",\"type\":\"BasicTicker\"}},\"id\":\"2430\",\"type\":\"LinearAxis\"},{\"attributes\":{\"text\":\"\"},\"id\":\"2459\",\"type\":\"Title\"},{\"attributes\":{},\"id\":\"2431\",\"type\":\"BasicTicker\"},{\"attributes\":{\"source\":{\"id\":\"2482\",\"type\":\"ColumnDataSource\"}},\"id\":\"2486\",\"type\":\"CDSView\"},{\"attributes\":{},\"id\":\"2461\",\"type\":\"BasicTickFormatter\"},{\"attributes\":{\"ticker\":{\"id\":\"2431\",\"type\":\"BasicTicker\"}},\"id\":\"2434\",\"type\":\"Grid\"},{\"attributes\":{},\"id\":\"2497\",\"type\":\"Selection\"},{\"attributes\":{},\"id\":\"2463\",\"type\":\"BasicTickFormatter\"},{\"attributes\":{\"axis_label\":\"[ip3] (mM)\",\"formatter\":{\"id\":\"2463\",\"type\":\"BasicTickFormatter\"},\"ticker\":{\"id\":\"2436\",\"type\":\"BasicTicker\"}},\"id\":\"2435\",\"type\":\"LinearAxis\"},{\"attributes\":{\"label\":{\"value\":\"100 ms\"},\"renderers\":[{\"id\":\"2485\",\"type\":\"GlyphRenderer\"}]},\"id\":\"2498\",\"type\":\"LegendItem\"},{\"attributes\":{\"bottom_units\":\"screen\",\"fill_alpha\":{\"value\":0.5},\"fill_color\":{\"value\":\"lightgrey\"},\"left_units\":\"screen\",\"level\":\"overlay\",\"line_alpha\":{\"value\":1.0},\"line_color\":{\"value\":\"black\"},\"line_dash\":[4,4],\"line_width\":{\"value\":2},\"render_mode\":\"css\",\"right_units\":\"screen\",\"top_units\":\"screen\"},\"id\":\"2464\",\"type\":\"BoxAnnotation\"},{\"attributes\":{},\"id\":\"2436\",\"type\":\"BasicTicker\"},{\"attributes\":{\"callback\":null,\"data\":{\"x\":[0.0,0.49504950642585754,1.485148549079895,2.475247621536255,3.465346574783325,4.455445766448975,5.445544719696045,6.435643672943115,7.4257426261901855,8.415842056274414,9.405941009521484,10.396039962768555,11.386138916015625,12.376237869262695,13.366336822509766,14.356435775756836,15.346534729003906,16.336633682250977,17.326732635498047,18.316831588745117,19.306930541992188,20.297029495239258,21.287128448486328,22.2772274017334,23.26732635498047,24.25742530822754,25.24752426147461,26.23762321472168,27.22772216796875,28.21782112121582,29.20792007446289,30.19801902770996,31.18811798095703,32.178218841552734,33.16831588745117,34.158416748046875,35.14851379394531,36.138614654541016,37.12871170043945,38.118812561035156,39.108909606933594,40.0990104675293,41.089107513427734,42.07920837402344,43.069305419921875,44.05940628051758,45.049503326416016,46.03960418701172,47.029701232910156,48.01980209350586,49.0098991394043,50.0,50.9901008605957,51.98019790649414,52.970298767089844,53.96039581298828,54.950496673583984,55.94059371948242,56.930694580078125,57.92079162597656,58.910892486572266,59.9009895324707,60.891090393066406,61.881187438964844,62.87128829956055,63.861385345458984,64.85148620605469,65.84158325195312,66.83168029785156,67.82178497314453,68.81188201904297,69.8019790649414,70.79207611083984,71.78218078613281,72.77227783203125,73.76237487792969,74.75247192382812,75.7425765991211,76.73267364501953,77.72277069091797,78.7128677368164,79.70297241210938,80.69306945800781,81.68316650390625,82.67326354980469,83.66336822509766,84.6534652709961,85.64356231689453,86.6336669921875,87.62376403808594,88.61386108398438,89.60395812988281,90.59406280517578,91.58415985107422,92.57425689697266,93.5643539428711,94.55445861816406,95.5445556640625,96.53465270996094,97.52474975585938,98.51485443115234,99.50495147705078,100.0],\"y\":[0.021806544952887186,0.021806544952887186,0.022221914375461362,0.02305519946608944,0.024311437533789563,0.025998046874775485,0.028124662394514124,0.030702917860749246,0.033746176109247725,0.03726920897486009,0.04128782924171678,0.04581847750263912,0.05087776748914227,0.056481994174795914,0.06264660975610985,0.06938567346135013,0.07671128200872936,0.08463298840677996,0.09315721763314512,0.10228668851225825,0.11201985180419921,0.12235035508231132,0.133266545382235,0.14475102081784424,0.15678024235119023,0.16932421664935254,0.18234626044207528,0.19580285599797423,0.20964360625940384,0.22381129682067807,0.23824207031410383,0.2528657169052028,0.2676060825235791,0.28238159420872905,0.29710589957808037,0.3116886149818012,0.3260361744548638,0.34005276917462673,0.353641364846779,0.36670478233869774,0.37914682501972424,0.3908734347108553,0.40179385694387465,0.4118217954258013,0.4208765352326631,0.428884014339759,0.43577782364422407,0.4415001166474604,0.44600241142430697,0.44924626938422946,0.4512038375866087,0.4518582439554283,0.4512038375866087,0.44924626938422946,0.44600241142430697,0.4415001166474604,0.43577782364422407,0.428884014339759,0.42087653523266316,0.41182179542580133,0.40179385694387476,0.39087343471085534,0.37914682501972424,0.3667047823386978,0.35364136484677905,0.34005276917462685,0.32603617445486394,0.3116886149818013,0.2971058995780804,0.28238159420872905,0.26760608252357915,0.2528657169052028,0.23824207031410383,0.2238112968206781,0.20964360625940384,0.1958028559979742,0.18234626044207528,0.16932421664935254,0.1567802423511902,0.14475102081784424,0.13326654538223504,0.12235035508231133,0.11201985180419922,0.10228668851225828,0.09315721763314513,0.08463298840677998,0.07671128200872936,0.06938567346135015,0.06264660975610986,0.05648199417479592,0.05087776748914228,0.045818477502639135,0.04128782924171679,0.0372692089748601,0.03374617610924774,0.030702917860749267,0.028124662394514145,0.02599804687477551,0.024311437533789587,0.02305519946608946,0.02222191437546139,0.021806544952887214,0.021806544952887214]},\"selected\":{\"id\":\"2625\",\"type\":\"Selection\"},\"selection_policy\":{\"id\":\"2624\",\"type\":\"UnionRenderers\"}},\"id\":\"2499\",\"type\":\"ColumnDataSource\"},{\"attributes\":{\"items\":[{\"id\":\"2466\",\"type\":\"LegendItem\"},{\"id\":\"2481\",\"type\":\"LegendItem\"},{\"id\":\"2498\",\"type\":\"LegendItem\"},{\"id\":\"2517\",\"type\":\"LegendItem\"}]},\"id\":\"2465\",\"type\":\"Legend\"},{\"attributes\":{\"dimension\":1,\"ticker\":{\"id\":\"2436\",\"type\":\"BasicTicker\"}},\"id\":\"2439\",\"type\":\"Grid\"},{\"attributes\":{\"label\":{\"value\":\"150 ms\"},\"renderers\":[{\"id\":\"2502\",\"type\":\"GlyphRenderer\"}]},\"id\":\"2517\",\"type\":\"LegendItem\"},{\"attributes\":{\"label\":{\"value\":\"0 ms\"},\"renderers\":[{\"id\":\"2456\",\"type\":\"GlyphRenderer\"}]},\"id\":\"2466\",\"type\":\"LegendItem\"},{\"attributes\":{\"x\":{\"field\":\"x\"},\"y\":{\"field\":\"y\"}},\"id\":\"2454\",\"type\":\"Line\"},{\"attributes\":{\"line_color\":\"green\",\"x\":{\"field\":\"x\"},\"y\":{\"field\":\"y\"}},\"id\":\"2500\",\"type\":\"Line\"},{\"attributes\":{\"callback\":null,\"data\":{\"x\":[0.0,0.49504950642585754,1.485148549079895,2.475247621536255,3.465346574783325,4.455445766448975,5.445544719696045,6.435643672943115,7.4257426261901855,8.415842056274414,9.405941009521484,10.396039962768555,11.386138916015625,12.376237869262695,13.366336822509766,14.356435775756836,15.346534729003906,16.336633682250977,17.326732635498047,18.316831588745117,19.306930541992188,20.297029495239258,21.287128448486328,22.2772274017334,23.26732635498047,24.25742530822754,25.24752426147461,26.23762321472168,27.22772216796875,28.21782112121582,29.20792007446289,30.19801902770996,31.18811798095703,32.178218841552734,33.16831588745117,34.158416748046875,35.14851379394531,36.138614654541016,37.12871170043945,38.118812561035156,39.108909606933594,40.0990104675293,41.089107513427734,42.07920837402344,43.069305419921875,44.05940628051758,45.049503326416016,46.03960418701172,47.029701232910156,48.01980209350586,49.0098991394043,50.0,50.9901008605957,51.98019790649414,52.970298767089844,53.96039581298828,54.950496673583984,55.94059371948242,56.930694580078125,57.92079162597656,58.910892486572266,59.9009895324707,60.891090393066406,61.881187438964844,62.87128829956055,63.861385345458984,64.85148620605469,65.84158325195312,66.83168029785156,67.82178497314453,68.81188201904297,69.8019790649414,70.79207611083984,71.78218078613281,72.77227783203125,73.76237487792969,74.75247192382812,75.7425765991211,76.73267364501953,77.72277069091797,78.7128677368164,79.70297241210938,80.69306945800781,81.68316650390625,82.67326354980469,83.66336822509766,84.6534652709961,85.64356231689453,86.6336669921875,87.62376403808594,88.61386108398438,89.60395812988281,90.59406280517578,91.58415985107422,92.57425689697266,93.5643539428711,94.55445861816406,95.5445556640625,96.53465270996094,97.52474975585938,98.51485443115234,99.50495147705078,100.0],\"y\":[8.336114403138632e-05,8.336114403138632e-05,9.637318799443899e-05,0.00012395272914071288,0.0001693309877574127,0.00023765804067631517,0.00033637315665055565,0.00047570794675569816,0.0006693276305372389,0.0009351136348154503,0.0012960864273555226,0.0017814605966529028,0.002427814498211122,0.003280344258015315,0.00439415677036877,0.005835539085232131,0.0076831231585857505,0.010028846647318694,0.01297859396443405,0.01665238919118461,0.02118400589097556,0.026719860623695735,0.03341706903745671,0.0414405673438081,0.05095923851267893,0.06214103137037415,0.07514712043529913,0.09012522195103598,0.10720225307460952,0.12647659138616896,0.14801025494678544,0.17182137299869754,0.19787734845009433,0.22608912094216796,0.25630692063275856,0.2883178570286442,0.3218456158036693,0.3565524434676212,0.39204349100973546,0.4278734707959139,0.46355546442746726,0.4985716112997738,0.5323853156435978,0.5644545396298312,0.5942457051995113,0.6212477087186512,0.6449855590499166,0.6650331778925397,0.6810249466262738,0.6926656411800826,0.6997384606075177,0.7021109219338476,0.6997384606075178,0.6926656411800827,0.6810249466262739,0.6650331778925398,0.6449855590499167,0.6212477087186514,0.5942457051995115,0.5644545396298314,0.532385315643598,0.498571611299774,0.4635554644274675,0.4278734707959141,0.3920434910097356,0.3565524434676214,0.32184561580366944,0.2883178570286443,0.2563069206327587,0.22608912094216801,0.19787734845009436,0.17182137299869754,0.1480102549467854,0.12647659138616896,0.10720225307460954,0.09012522195103599,0.07514712043529916,0.06214103137037417,0.05095923851267894,0.04144056734380811,0.033417069037456726,0.026719860623695746,0.021184005890975563,0.016652389191184613,0.012978593964434057,0.010028846647318705,0.00768312315858576,0.005835539085232139,0.004394156770368775,0.0032803442580153167,0.002427814498211124,0.0017814605966529047,0.001296086427355524,0.0009351136348154512,0.000669327630537239,0.00047570794675569854,0.00033637315665055597,0.00023765804067631545,0.00016933098775741284,0.00012395272914071285,9.637318799443903e-05,8.33611440313864e-05,8.33611440313864e-05]},\"selected\":{\"id\":\"2497\",\"type\":\"Selection\"},\"selection_policy\":{\"id\":\"2496\",\"type\":\"UnionRenderers\"}},\"id\":\"2467\",\"type\":\"ColumnDataSource\"},{\"attributes\":{\"callback\":null,\"data\":{\"x\":[0.0,0.49504950642585754,1.485148549079895,2.475247621536255,3.465346574783325,4.455445766448975,5.445544719696045,6.435643672943115,7.4257426261901855,8.415842056274414,9.405941009521484,10.396039962768555,11.386138916015625,12.376237869262695,13.366336822509766,14.356435775756836,15.346534729003906,16.336633682250977,17.326732635498047,18.316831588745117,19.306930541992188,20.297029495239258,21.287128448486328,22.2772274017334,23.26732635498047,24.25742530822754,25.24752426147461,26.23762321472168,27.22772216796875,28.21782112121582,29.20792007446289,30.19801902770996,31.18811798095703,32.178218841552734,33.16831588745117,34.158416748046875,35.14851379394531,36.138614654541016,37.12871170043945,38.118812561035156,39.108909606933594,40.0990104675293,41.089107513427734,42.07920837402344,43.069305419921875,44.05940628051758,45.049503326416016,46.03960418701172,47.029701232910156,48.01980209350586,49.0098991394043,50.0,50.9901008605957,51.98019790649414,52.970298767089844,53.96039581298828,54.950496673583984,55.94059371948242,56.930694580078125,57.92079162597656,58.910892486572266,59.9009895324707,60.891090393066406,61.881187438964844,62.87128829956055,63.861385345458984,64.85148620605469,65.84158325195312,66.83168029785156,67.82178497314453,68.81188201904297,69.8019790649414,70.79207611083984,71.78218078613281,72.77227783203125,73.76237487792969,74.75247192382812,75.7425765991211,76.73267364501953,77.72277069091797,78.7128677368164,79.70297241210938,80.69306945800781,81.68316650390625,82.67326354980469,83.66336822509766,84.6534652709961,85.64356231689453,86.6336669921875,87.62376403808594,88.61386108398438,89.60395812988281,90.59406280517578,91.58415985107422,92.57425689697266,93.5643539428711,94.55445861816406,95.5445556640625,96.53465270996094,97.52474975585938,98.51485443115234,99.50495147705078,100.0],\"y\":[0.0,0.0,0.0,0.0,0.0,0.0,0.0,0.0,0.0,0.0,0.0,0.0,0.0,0.0,0.0,0.0,0.0,0.0,0.0,0.0,0.0,0.0,0.0,0.0,0.0,0.0,0.0,0.0,0.0,0.0,0.0,0.0,0.0,0.0,0.0,0.0,0.0,0.0,0.0,0.0,0.0,1.0,1.0,1.0,1.0,1.0,1.0,1.0,1.0,1.0,1.0,1.0,1.0,1.0,1.0,1.0,1.0,1.0,1.0,1.0,1.0,1.0,0.0,0.0,0.0,0.0,0.0,0.0,0.0,0.0,0.0,0.0,0.0,0.0,0.0,0.0,0.0,0.0,0.0,0.0,0.0,0.0,0.0,0.0,0.0,0.0,0.0,0.0,0.0,0.0,0.0,0.0,0.0,0.0,0.0,0.0,0.0,0.0,0.0,0.0,0.0,0.0,0.0]},\"selected\":{\"id\":\"2480\",\"type\":\"Selection\"},\"selection_policy\":{\"id\":\"2479\",\"type\":\"UnionRenderers\"}},\"id\":\"2453\",\"type\":\"ColumnDataSource\"},{\"attributes\":{\"line_alpha\":0.1,\"line_color\":\"#1f77b4\",\"x\":{\"field\":\"x\"},\"y\":{\"field\":\"y\"}},\"id\":\"2501\",\"type\":\"Line\"},{\"attributes\":{},\"id\":\"2480\",\"type\":\"Selection\"},{\"attributes\":{\"active_drag\":\"auto\",\"active_inspect\":\"auto\",\"active_multi\":null,\"active_scroll\":\"auto\",\"active_tap\":\"auto\",\"tools\":[{\"id\":\"2440\",\"type\":\"PanTool\"},{\"id\":\"2441\",\"type\":\"WheelZoomTool\"},{\"id\":\"2442\",\"type\":\"BoxZoomTool\"},{\"id\":\"2443\",\"type\":\"SaveTool\"},{\"id\":\"2444\",\"type\":\"ResetTool\"},{\"id\":\"2445\",\"type\":\"HelpTool\"}]},\"id\":\"2446\",\"type\":\"Toolbar\"},{\"attributes\":{\"line_color\":\"blue\",\"x\":{\"field\":\"x\"},\"y\":{\"field\":\"y\"}},\"id\":\"2468\",\"type\":\"Line\"},{\"attributes\":{\"data_source\":{\"id\":\"2499\",\"type\":\"ColumnDataSource\"},\"glyph\":{\"id\":\"2500\",\"type\":\"Line\"},\"hover_glyph\":null,\"muted_glyph\":null,\"nonselection_glyph\":{\"id\":\"2501\",\"type\":\"Line\"},\"selection_glyph\":null,\"view\":{\"id\":\"2503\",\"type\":\"CDSView\"}},\"id\":\"2502\",\"type\":\"GlyphRenderer\"},{\"attributes\":{},\"id\":\"2440\",\"type\":\"PanTool\"},{\"attributes\":{\"line_alpha\":0.1,\"line_color\":\"#1f77b4\",\"x\":{\"field\":\"x\"},\"y\":{\"field\":\"y\"}},\"id\":\"2469\",\"type\":\"Line\"},{\"attributes\":{},\"id\":\"2441\",\"type\":\"WheelZoomTool\"},{\"attributes\":{\"source\":{\"id\":\"2499\",\"type\":\"ColumnDataSource\"}},\"id\":\"2503\",\"type\":\"CDSView\"},{\"attributes\":{\"callback\":null},\"id\":\"2422\",\"type\":\"DataRange1d\"},{\"attributes\":{\"data_source\":{\"id\":\"2467\",\"type\":\"ColumnDataSource\"},\"glyph\":{\"id\":\"2468\",\"type\":\"Line\"},\"hover_glyph\":null,\"muted_glyph\":null,\"nonselection_glyph\":{\"id\":\"2469\",\"type\":\"Line\"},\"selection_glyph\":null,\"view\":{\"id\":\"2471\",\"type\":\"CDSView\"}},\"id\":\"2470\",\"type\":\"GlyphRenderer\"},{\"attributes\":{},\"id\":\"2515\",\"type\":\"UnionRenderers\"},{\"attributes\":{\"overlay\":{\"id\":\"2464\",\"type\":\"BoxAnnotation\"}},\"id\":\"2442\",\"type\":\"BoxZoomTool\"},{\"attributes\":{\"source\":{\"id\":\"2467\",\"type\":\"ColumnDataSource\"}},\"id\":\"2471\",\"type\":\"CDSView\"},{\"attributes\":{},\"id\":\"2516\",\"type\":\"Selection\"},{\"attributes\":{},\"id\":\"2443\",\"type\":\"SaveTool\"},{\"attributes\":{\"label\":{\"value\":\"50 ms\"},\"renderers\":[{\"id\":\"2470\",\"type\":\"GlyphRenderer\"}]},\"id\":\"2481\",\"type\":\"LegendItem\"},{\"attributes\":{},\"id\":\"2444\",\"type\":\"ResetTool\"},{\"attributes\":{\"callback\":null,\"data\":{\"x\":[0.0,0.49504950642585754,1.485148549079895,2.475247621536255,3.465346574783325,4.455445766448975,5.445544719696045,6.435643672943115,7.4257426261901855,8.415842056274414,9.405941009521484,10.396039962768555,11.386138916015625,12.376237869262695,13.366336822509766,14.356435775756836,15.346534729003906,16.336633682250977,17.326732635498047,18.316831588745117,19.306930541992188,20.297029495239258,21.287128448486328,22.2772274017334,23.26732635498047,24.25742530822754,25.24752426147461,26.23762321472168,27.22772216796875,28.21782112121582,29.20792007446289,30.19801902770996,31.18811798095703,32.178218841552734,33.16831588745117,34.158416748046875,35.14851379394531,36.138614654541016,37.12871170043945,38.118812561035156,39.108909606933594,40.0990104675293,41.089107513427734,42.07920837402344,43.069305419921875,44.05940628051758,45.049503326416016,46.03960418701172,47.029701232910156,48.01980209350586,49.0098991394043,50.0,50.9901008605957,51.98019790649414,52.970298767089844,53.96039581298828,54.950496673583984,55.94059371948242,56.930694580078125,57.92079162597656,58.910892486572266,59.9009895324707,60.891090393066406,61.881187438964844,62.87128829956055,63.861385345458984,64.85148620605469,65.84158325195312,66.83168029785156,67.82178497314453,68.81188201904297,69.8019790649414,70.79207611083984,71.78218078613281,72.77227783203125,73.76237487792969,74.75247192382812,75.7425765991211,76.73267364501953,77.72277069091797,78.7128677368164,79.70297241210938,80.69306945800781,81.68316650390625,82.67326354980469,83.66336822509766,84.6534652709961,85.64356231689453,86.6336669921875,87.62376403808594,88.61386108398438,89.60395812988281,90.59406280517578,91.58415985107422,92.57425689697266,93.5643539428711,94.55445861816406,95.5445556640625,96.53465270996094,97.52474975585938,98.51485443115234,99.50495147705078,100.0],\"y\":[0.005151015865294909,0.005151015865294909,0.005366893024297746,0.005803633363025879,0.00647119173760545,0.007384454989994143,0.008563180569926337,0.010031903565532222,0.011819803159511687,0.013960517974941003,0.01649189867444941,0.019455685607277,0.02289709933016166,0.0268643325172394,0.031407933162205914,0.03658007108387974,0.04243368257114498,0.04902149151475405,0.056394909511133545,0.06460282209462066,0.07369027333441235,0.08369706636447381,0.09465630281376301,0.10659288936166078,0.11952204453360352,0.13344784313991015,0.14836183921290094,0.16424181069149343,0.18105067023932975,0.1987355862970739,0.21722735664139614,0.23644007328576386,0.25627111250601287,0.27660147716720324,0.2972965104957272,0.31820699117687296,0.33917060942000227,0.36001381273253613,0.3805539989352409,0.4006020228207161,0.4199649722059747,0.4384491593592989,0.4558632652743435,0.47202156736981443,0.4867471762105448,0.499875204011828,0.5112557871656018,0.5207568868942323,0.5282667963878058,0.5336962893183422,0.5369803532677553,0.5380794620947295,0.5369803532677553,0.5336962893183422,0.5282667963878058,0.5207568868942323,0.5112557871656018,0.4998752040118279,0.4867471762105448,0.4720215673698145,0.45586326527434357,0.43844915935929896,0.41996497220597473,0.4006020228207162,0.380553998935241,0.36001381273253624,0.3391706094200024,0.318206991176873,0.29729651049572725,0.27660147716720324,0.25627111250601287,0.2364400732857639,0.2172273566413962,0.19873558629707397,0.1810506702393298,0.1642418106914935,0.148361839212901,0.13344784313991018,0.11952204453360352,0.10659288936166078,0.094656302813763,0.0836970663644738,0.07369027333441233,0.06460282209462063,0.05639490951113353,0.04902149151475405,0.04243368257114498,0.036580071083879756,0.03140793316220592,0.026864332517239402,0.022897099330161663,0.019455685607277007,0.016491898674449414,0.013960517974941007,0.011819803159511687,0.010031903565532223,0.008563180569926339,0.007384454989994145,0.006471191737605452,0.00580363336302588,0.005366893024297749,0.005151015865294914,0.005151015865294914]},\"selected\":{\"id\":\"2516\",\"type\":\"Selection\"},\"selection_policy\":{\"id\":\"2515\",\"type\":\"UnionRenderers\"}},\"id\":\"2482\",\"type\":\"ColumnDataSource\"},{\"attributes\":{},\"id\":\"2445\",\"type\":\"HelpTool\"}],\"root_ids\":[\"2421\"]},\"title\":\"Bokeh Application\",\"version\":\"1.4.0\"}};\n",
              "  var render_items = [{\"docid\":\"f9f4bd85-fa2b-4c6a-b205-ff979c841eaf\",\"roots\":{\"2421\":\"2bd4d708-db15-4119-91c3-d7f08ffcda12\"}}];\n",
              "  root.Bokeh.embed.embed_items_notebook(docs_json, render_items);\n",
              "\n",
              "  }\n",
              "  if (root.Bokeh !== undefined) {\n",
              "    embed_document(root);\n",
              "  } else {\n",
              "    var attempts = 0;\n",
              "    var timer = setInterval(function(root) {\n",
              "      if (root.Bokeh !== undefined) {\n",
              "        clearInterval(timer);\n",
              "        embed_document(root);\n",
              "      } else {\n",
              "        attempts++;\n",
              "        if (attempts > 100) {\n",
              "          clearInterval(timer);\n",
              "          console.log(\"Bokeh: ERROR: Unable to run BokehJS code because BokehJS library is missing\");\n",
              "        }\n",
              "      }\n",
              "    }, 10, root)\n",
              "  }\n",
              "})(window);"
            ],
            "application/vnd.bokehjs_exec.v0+json": ""
          },
          "metadata": {
            "tags": [],
            "application/vnd.bokehjs_exec.v0+json": {
              "id": "2421"
            }
          }
        }
      ]
    },
    {
      "cell_type": "markdown",
      "metadata": {
        "id": "v0XduW7XiNy6"
      },
      "source": [
        "# Your turn again\n",
        "\n",
        "Find the time at which position 70 µm exceeds 100 nM. What is the peak value obtained at the location?"
      ]
    },
    {
      "cell_type": "code",
      "metadata": {
        "id": "PzAC-C-bgmnY"
      },
      "source": [
        ""
      ],
      "execution_count": null,
      "outputs": []
    }
  ]
}